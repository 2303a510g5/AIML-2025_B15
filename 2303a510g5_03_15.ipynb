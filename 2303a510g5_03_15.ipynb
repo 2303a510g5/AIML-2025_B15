{
  "nbformat": 4,
  "nbformat_minor": 0,
  "metadata": {
    "colab": {
      "provenance": [],
      "authorship_tag": "ABX9TyM1vqd/e4RwHSZqYgqNonoa",
      "include_colab_link": true
    },
    "kernelspec": {
      "name": "python3",
      "display_name": "Python 3"
    },
    "language_info": {
      "name": "python"
    }
  },
  "cells": [
    {
      "cell_type": "markdown",
      "metadata": {
        "id": "view-in-github",
        "colab_type": "text"
      },
      "source": [
        "<a href=\"https://colab.research.google.com/github/2303a510g5/AIML-2025_B15/blob/main/2303a510g5_03_15.ipynb\" target=\"_parent\"><img src=\"https://colab.research.google.com/assets/colab-badge.svg\" alt=\"Open In Colab\"/></a>"
      ]
    },
    {
      "cell_type": "code",
      "source": [
        " from collections import Counter\n",
        "\n",
        "# Predefined list of commonly played chords in popular music\n",
        "chords = [\"C\", \"G\", \"Am\", \"F\", \"D\", \"E\", \"A\", \"Bm\", \"D7\", \"E7\", \"Cmaj7\", \"G7\"]\n",
        "\n",
        "# Count frequencies of the chords in the dataset\n",
        "chord_counter = Counter(chords)\n",
        "\n",
        "# Identify top 5 most common chords\n",
        "top_5_chords = chord_counter.most_common(5)\n",
        "print(\"Top 5 most played chords:\", top_5_chords)"
      ],
      "metadata": {
        "colab": {
          "base_uri": "https://localhost:8080/"
        },
        "id": "9PoxmN_vKI_5",
        "outputId": "e1bbcb62-e6b3-4101-86e1-5d00356d5c27"
      },
      "execution_count": 19,
      "outputs": [
        {
          "output_type": "stream",
          "name": "stdout",
          "text": [
            "Top 5 most played chords: [('C', 1), ('G', 1), ('Am', 1), ('F', 1), ('D', 1)]\n"
          ]
        }
      ]
    },
    {
      "cell_type": "code",
      "source": [
        "# Dictionary of common chords and their finger positions\n",
        "finger_positions = {\n",
        "    \"C\": {\"index\": [1], \"middle\": [2], \"ring\": [3]},\n",
        "    \"G\": {\"index\": [2], \"middle\": [3], \"ring\": [4], \"pinky\": [5]},\n",
        "    \"Am\": {\"index\": [1], \"middle\": [2], \"ring\": [3]},\n",
        "    \"F\": {\"index\": [1], \"middle\": [2], \"ring\": [3], \"pinky\": [4]},\n",
        "    \"D\": {\"index\": [1], \"middle\": [2], \"ring\": [3]},\n",
        "    \"E\": {\"index\": [1], \"middle\": [2], \"ring\": [3]},\n",
        "    \"A\": {\"index\": [1], \"middle\": [2], \"ring\": [3]},\n",
        "    \"Bm\": {\"index\": [1], \"middle\": [2], \"ring\": [3]},\n",
        "}\n",
        "\n",
        "# Calculate the most common finger positions\n",
        "finger_usage = Counter()\n",
        "for chord, positions in finger_positions.items():\n",
        "    for finger, frets in positions.items():\n",
        "        finger_usage[finger] += len(frets)\n",
        "\n",
        "# Display the most used fingers\n",
        "print(\"Most used fingers:\", finger_usage.most_common())"
      ],
      "metadata": {
        "colab": {
          "base_uri": "https://localhost:8080/"
        },
        "id": "6CdD7uU1KTp_",
        "outputId": "8ac2d93c-b8db-4a0a-a328-9e64abb523ea"
      },
      "execution_count": 20,
      "outputs": [
        {
          "output_type": "stream",
          "name": "stdout",
          "text": [
            "Most used fingers: [('index', 8), ('middle', 8), ('ring', 8), ('pinky', 2)]\n"
          ]
        }
      ]
    },
    {
      "cell_type": "code",
      "source": [
        "# Predefined list of common string movements\n",
        "string_movements = [\n",
        "    \"hammer-on\", \"pull-off\", \"slide\", \"bend\", \"vibrato\",\n",
        "    \"hammer-on\", \"pull-off\", \"slide\", \"bend\", \"strumming\",\n",
        "    \"bend\", \"slide\", \"vibrato\", \"strumming\", \"pluck\"\n",
        "]\n",
        "\n",
        "# Count frequencies of string movements\n",
        "movement_counter = Counter(string_movements)\n",
        "\n",
        "# Top 5 string movements\n",
        "top_5_movements = movement_counter.most_common(5)\n",
        "print(\"Top 5 string movements:\", top_5_movements)"
      ],
      "metadata": {
        "colab": {
          "base_uri": "https://localhost:8080/"
        },
        "id": "q_ditNjbKblM",
        "outputId": "51e1941c-73b0-49e6-87c7-2662f8301c21"
      },
      "execution_count": 21,
      "outputs": [
        {
          "output_type": "stream",
          "name": "stdout",
          "text": [
            "Top 5 string movements: [('slide', 3), ('bend', 3), ('hammer-on', 2), ('pull-off', 2), ('vibrato', 2)]\n"
          ]
        }
      ]
    },
    {
      "cell_type": "code",
      "source": [
        "# Check for chords using middle and pinkie\n",
        "middle_and_pinky_chords = {chord: pos for chord, pos in finger_positions.items()\n",
        "                           if \"middle\" in pos and \"pinky\" in pos}\n",
        "\n",
        "print(\"Chords that use both middle and pinkie fingers:\", middle_and_pinky_chords)"
      ],
      "metadata": {
        "colab": {
          "base_uri": "https://localhost:8080/"
        },
        "id": "vG-Sy1mKKhfB",
        "outputId": "c789bc2e-57ac-4c24-f1a6-4a1683f17e50"
      },
      "execution_count": 22,
      "outputs": [
        {
          "output_type": "stream",
          "name": "stdout",
          "text": [
            "Chords that use both middle and pinkie fingers: {'G': {'index': [2], 'middle': [3], 'ring': [4], 'pinky': [5]}, 'F': {'index': [1], 'middle': [2], 'ring': [3], 'pinky': [4]}}\n"
          ]
        }
      ]
    },
    {
      "cell_type": "code",
      "source": [
        "# Check for chords using index, middle, and ring fingers\n",
        "chord_with_index_middle_ring = {chord: pos for chord, pos in finger_positions.items()\n",
        "                                if \"index\" in pos and \"middle\" in pos and \"ring\" in pos}\n",
        "\n",
        "print(\"Chords that use index, middle, and ring fingers:\", chord_with_index_middle_ring)\n"
      ],
      "metadata": {
        "colab": {
          "base_uri": "https://localhost:8080/"
        },
        "id": "qASh5G54Kliz",
        "outputId": "45c97cbd-09b2-49ae-fc3e-c18a1ce5b8e9"
      },
      "execution_count": 23,
      "outputs": [
        {
          "output_type": "stream",
          "name": "stdout",
          "text": [
            "Chords that use index, middle, and ring fingers: {'C': {'index': [1], 'middle': [2], 'ring': [3]}, 'G': {'index': [2], 'middle': [3], 'ring': [4], 'pinky': [5]}, 'Am': {'index': [1], 'middle': [2], 'ring': [3]}, 'F': {'index': [1], 'middle': [2], 'ring': [3], 'pinky': [4]}, 'D': {'index': [1], 'middle': [2], 'ring': [3]}, 'E': {'index': [1], 'middle': [2], 'ring': [3]}, 'A': {'index': [1], 'middle': [2], 'ring': [3]}, 'Bm': {'index': [1], 'middle': [2], 'ring': [3]}}\n"
          ]
        }
      ]
    }
  ]
}